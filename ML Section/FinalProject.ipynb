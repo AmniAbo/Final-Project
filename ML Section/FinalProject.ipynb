{
  "cells": [
    {
      "cell_type": "markdown",
      "source": [
        "# **Main Loop**"
      ],
      "metadata": {
        "id": "AAMJ3qxwM3WD"
      }
    },
    {
      "cell_type": "code",
      "source": [
        "\n",
        "# === Helper Functions ===\n",
        "def to_binary(distance):\n",
        "    return 1 if distance < 55 else 0\n",
        "\n",
        "def predict_traffic_decision_with_label(model, ultra1, ultra2, ultra3, ultra4, face, severe_weather):\n",
        "    df_input = pd.DataFrame([{\n",
        "        \"ultra1\": to_binary(ultra1),\n",
        "        \"ultra2\": to_binary(ultra2),\n",
        "        \"ultra3\": to_binary(ultra3),\n",
        "        \"ultra4\": to_binary(ultra4),\n",
        "        \"face\": face,\n",
        "        \"severe weather\": int(severe_weather)\n",
        "    }])\n",
        "\n",
        "    print(\"\\n📥 Model input (after preprocessing):\")\n",
        "    print(df_input.to_string(index=False))\n",
        "\n",
        "    prediction = model.predict(df_input)[0]\n",
        "    light_map = {0: \"red\", 1: \"green\"}\n",
        "    label_map = {0: \"bad\", 1: \"good\"}\n",
        "\n",
        "    output_labels = [\n",
        "        \"priority\", \"traffic_light_lane_1\", \"traffic_light_lane_2\",\n",
        "        \"traffic_light_lane_3\", \"traffic_light_lane_4\",\n",
        "        \"traffic_light_pedestrian\", \"label\"\n",
        "    ]\n",
        "\n",
        "    result = {}\n",
        "    for label, value in zip(output_labels, prediction):\n",
        "        if label == \"priority\":\n",
        "            result[label] = \"pedestrians\" if value == 1 else \"cars\"\n",
        "        elif label == \"label\":\n",
        "            result[label] = label_map.get(value, f\"unknown ({value})\")\n",
        "        else:\n",
        "            result[label] = light_map.get(value, f\"unknown ({value})\")\n",
        "\n",
        "    return result\n",
        "\n",
        "\n",
        "# === Main Loop ===\n",
        "\n",
        "model = joblib.load(\"traffic_model.pkl\")\n",
        "\n",
        "while True:\n",
        "    try:\n",
        "        clear_output(wait=True)  # cleans the output\n",
        "\n",
        "        firebase_data = load_firebase_data()\n",
        "        inputs = {}\n",
        "\n",
        "        # ✅ Add severe weather flag\n",
        "        inputs[\"severe weather\"] = check_severe_weather()\n",
        "\n",
        "        if firebase_data:\n",
        "            # Extract features from Firebase\n",
        "            extracted = extract_inputs_for_prediction(firebase_data)\n",
        "            if extracted:\n",
        "                inputs.update(extracted)\n",
        "\n",
        "                # Step 1: Predict current traffic control\n",
        "                result = predict_traffic_decision_with_label(\n",
        "                    model,\n",
        "                    ultra1=inputs[\"ultra1\"],\n",
        "                    ultra2=inputs[\"ultra2\"],\n",
        "                    ultra3=inputs[\"ultra3\"],\n",
        "                    ultra4=inputs[\"ultra4\"],\n",
        "                    face=inputs[\"face\"],\n",
        "                    severe_weather=inputs[\"severe weather\"]\n",
        "                )\n",
        "\n",
        "                print(\"\\n🚦 Predicted Traffic Control Output:\")\n",
        "                for key, value in result.items():\n",
        "                    print(f\"{key}: {value}\")\n",
        "\n",
        "                # Step 2: Forecast next 5 hours for pedestrians & density\n",
        "                people_predictions, traffic_predictions = predict_forecast_separately(\n",
        "                    people_model, density_model, label_encoders, df, hours_ahead=5\n",
        "                )\n",
        "\n",
        "                # Step 3: Format as Firebase-ready dicts\n",
        "                padestrian_forecast = {\n",
        "                    pred[\"time\"]: pred[\"people_count\"] for pred in people_predictions\n",
        "                }\n",
        "\n",
        "                density_forecast = {\n",
        "                    pred[\"time\"]: pred[\"traffic_density\"] for pred in traffic_predictions\n",
        "                }\n",
        "\n",
        "                # Step 4: Push all data to Firebase\n",
        "                write_prediction_to_firebase(result, inputs, density_forecast, padestrian_forecast)\n",
        "\n",
        "        # Wait before next update\n",
        "        time.sleep(15)\n",
        "\n",
        "    except Exception as e:\n",
        "        print(\"❌ Error during loop execution:\", e)\n",
        "        time.sleep(15)  # still wait before next attempt\n"
      ],
      "metadata": {
        "colab": {
          "base_uri": "https://localhost:8080/",
          "height": 950
        },
        "id": "DM2meB1GNNUS",
        "outputId": "1ca62cd3-ad1f-4625-bdc0-c5c435231c2c"
      },
      "execution_count": null,
      "outputs": [
        {
          "output_type": "stream",
          "name": "stdout",
          "text": [
            "✅ JSON data loaded from Firebase URL.\n",
            "🌦️ Condition: Clear\n",
            "🌡️ Temperature: 22.3 °C\n",
            "🌬️ Wind: 6.5 km/h\n",
            "💧 Precipitation: 0.0 mm\n",
            "✅ Weather is Normal\n",
            "\n",
            "📥 Model input (after preprocessing):\n",
            " ultra1  ultra2  ultra3  ultra4  face  severe weather\n",
            "      1       1       0       0    10               0\n",
            "\n",
            "🚦 Predicted Traffic Control Output:\n",
            "priority: pedestrians\n",
            "traffic_light_lane_1: red\n",
            "traffic_light_lane_2: green\n",
            "traffic_light_lane_3: red\n",
            "traffic_light_lane_4: red\n",
            "traffic_light_pedestrian: green\n",
            "label: good\n",
            "\n",
            "📅 23:52 Prediction:\n",
            "👥 People Count: 2.242680613458512\n",
            "🚦 Traffic Density: low\n",
            "\n",
            "📅 00:52 Prediction:\n",
            "👥 People Count: 1.7476429998058765\n",
            "🚦 Traffic Density: low\n",
            "\n",
            "📅 01:52 Prediction:\n",
            "👥 People Count: 1.6668397230841572\n",
            "🚦 Traffic Density: low\n",
            "\n",
            "📅 02:52 Prediction:\n",
            "👥 People Count: 1.7511008467734164\n",
            "🚦 Traffic Density: low\n",
            "\n",
            "📅 03:52 Prediction:\n",
            "👥 People Count: 1.7513369904836973\n",
            "🚦 Traffic Density: low\n",
            "✅ Prediction and all data successfully written to Firebase.\n"
          ]
        },
      ]
    },
    {
      "cell_type": "markdown",
      "source": [
        "# **Imports and Installastions**"
      ],
      "metadata": {
        "id": "z6ydbtNInLpU"
      }
    },
    {
      "cell_type": "code",
      "source": [
        "import pandas as pd\n",
        "import numpy as np\n",
        "import json\n",
        "import time\n",
        "import joblib\n",
        "import matplotlib.pyplot as plt\n",
        "import seaborn as sns\n",
        "from datetime import datetime, timedelta\n",
        "import pytz\n",
        "import requests\n",
        "import firebase_admin\n",
        "import os\n",
        "from IPython.display import clear_output\n",
        "\n",
        "from firebase_admin import credentials, db\n",
        "from sklearn.ensemble import RandomForestClassifier, RandomForestRegressor\n",
        "from sklearn.multioutput import MultiOutputClassifier\n",
        "from sklearn.model_selection import train_test_split\n",
        "from sklearn.preprocessing import LabelEncoder\n",
        "from sklearn.metrics import accuracy_score, classification_report, confusion_matrix, mean_absolute_error\n"
      ],
      "metadata": {
        "id": "Ubyc_-AVnWhL"
      },
      "execution_count": null,
      "outputs": []
    },
    {
      "cell_type": "markdown",
      "source": [
        "# **DataBase Integration**"
      ],
      "metadata": {
        "id": "wKJSP8CI0Rdd"
      }
    },
    {
      "cell_type": "markdown",
      "source": [
        "## Load Firebase Data"
      ],
      "metadata": {
        "id": "GNa6wxz_6KA1"
      }
    },
    {
      "cell_type": "code",
      "source": [
        "\n",
        "def load_firebase_data():\n",
        "    \"\"\"\n",
        "    Fetches and parses JSON data from a predefined Firebase Realtime Database URL.\n",
        "\n",
        "    Returns:\n",
        "        dict or None: Parsed JSON dictionary if successful, otherwise None\n",
        "    \"\"\"\n",
        "    url = 'https://trying-481a3-default-rtdb.firebaseio.com/data.json'\n",
        "\n",
        "    try:\n",
        "        response = requests.get(url)\n",
        "        if response.status_code == 200:\n",
        "            print(\"✅ JSON data loaded from Firebase URL.\")\n",
        "            return response.json()\n",
        "        else:\n",
        "            print(f\"❌ Failed to fetch data. Status code: {response.status_code}\")\n",
        "            return None\n",
        "    except requests.exceptions.RequestException as e:\n",
        "        print(f\"❌ Request failed: {e}\")\n",
        "        return None\n"
      ],
      "metadata": {
        "id": "3te54JEKnmir"
      },
      "execution_count": null,
      "outputs": []
    },
    {
      "cell_type": "markdown",
      "source": [
        "## Read data from Firebase"
      ],
      "metadata": {
        "id": "v4TAgvcE6NcS"
      }
    },
    {
      "cell_type": "code",
      "source": [
        "def extract_inputs_for_prediction(firebase_data):\n",
        "    source = firebase_data.get(\"data\", firebase_data)\n",
        "\n",
        "    try:\n",
        "        return {\n",
        "            \"ultra1\": source[\"ultra1\"],\n",
        "            \"ultra2\": source[\"ultra2\"],\n",
        "            \"ultra3\": source[\"ultra3\"],\n",
        "            \"ultra4\": source[\"ultra4\"],\n",
        "            \"face\": source[\"faces\"],\n",
        "        }\n",
        "    except KeyError as e:\n",
        "        print(f\"❌ Missing key: {e}\")\n",
        "        return None\n"
      ],
      "metadata": {
        "id": "7bacEgj3nuFB"
      },
      "execution_count": null,
      "outputs": []
    },
    {
      "cell_type": "markdown",
      "source": [
        "## Write predictions or state updates"
      ],
      "metadata": {
        "id": "H-gQR2FD6Q8M"
      }
    },
    {
      "cell_type": "code",
      "source": [
        "\n",
        "def write_prediction_to_firebase(result, inputs, density_forecast, padestrian_forecast):\n",
        "    \"\"\"\n",
        "    Sends prediction results and forecast data to Firebase Realtime Database using REST API.\n",
        "\n",
        "    Parameters:\n",
        "        result (dict): Output from predict_traffic_decision_with_label\n",
        "        inputs (dict): Original input values (includes ultrasonic and face)\n",
        "        density_forecast (dict): Forecasted traffic levels by time\n",
        "        padestrian_forecast (dict): Forecasted pedestrian counts by time\n",
        "    \"\"\"\n",
        "    now = datetime.now()\n",
        "    inputs[\"day\"] = now.strftime(\"%A\").lower()\n",
        "    inputs[\"time\"] = now.strftime(\"%H:%M\")\n",
        "    base_url = \"https://trying-481a3-default-rtdb.firebaseio.com\"\n",
        "\n",
        "    # --- Write to /data ---\n",
        "    data_payload = {\n",
        "        \"traffic_light_lane_1\": result[\"traffic_light_lane_1\"],\n",
        "        \"traffic_light_lane_2\": result[\"traffic_light_lane_2\"],\n",
        "        \"traffic_light_lane_3\": result[\"traffic_light_lane_3\"],\n",
        "        \"traffic_light_lane_4\": result[\"traffic_light_lane_4\"],\n",
        "        \"traffic_light_pedestrian\": result[\"traffic_light_pedestrian\"],\n",
        "        \"faces\": inputs[\"face\"]\n",
        "    }\n",
        "\n",
        "    data_response = requests.patch(f\"{base_url}/data.json\", json=data_payload)\n",
        "\n",
        "    # --- Write to /Web_Data ---\n",
        "    web_payload = {\n",
        "        \"density_forecast\": density_forecast,\n",
        "        \"padestrian_forecast\": padestrian_forecast,\n",
        "        \"Car_Detection\": {\n",
        "            \"ultra1\": to_binary(inputs[\"ultra1\"]),\n",
        "            \"ultra2\": to_binary(inputs[\"ultra2\"]),\n",
        "            \"ultra3\": to_binary(inputs[\"ultra3\"]),\n",
        "            \"ultra4\": to_binary(inputs[\"ultra4\"])\n",
        "        },\n",
        "        \"weather\": {\n",
        "            \"severe_weather\": str(inputs[\"severe weather\"]).lower(),\n",
        "            \"temp\": STATIC_TEMP\n",
        "        },\n",
        "        \"Ped_Num\": inputs[\"face\"],\n",
        "        \"Date\": {\n",
        "            \"day\": inputs[\"day\"] if \"day\" in inputs else \"unknown\",\n",
        "            \"time\": inputs[\"time\"] if \"time\" in inputs else \"unknown\"\n",
        "        }\n",
        "    }\n",
        "\n",
        "    web_response = requests.patch(f\"{base_url}/Web_Data.json\", json=web_payload)\n",
        "\n",
        "    # --- Check results ---\n",
        "    if data_response.status_code == 200 and web_response.status_code == 200:\n",
        "        print(\"✅ Prediction and all data successfully written to Firebase.\")\n",
        "    else:\n",
        "        print(f\"❌ Failed to write to Firebase. Status codes: data={data_response.status_code}, web={web_response.status_code}\")\n"
      ],
      "metadata": {
        "id": "6-gxZI_3JrKV"
      },
      "execution_count": null,
      "outputs": []
    },
    {
      "cell_type": "markdown",
      "source": [
        "# **Weather API Integration**"
      ],
      "metadata": {
        "id": "YDdezPny1414"
      }
    },
    {
      "cell_type": "markdown",
      "source": [
        "## Fetch current weather and API"
      ],
      "metadata": {
        "id": "SRvO8AI-6VVe"
      }
    },
    {
      "cell_type": "code",
      "source": [
        "API_KEY = \"08b3bf38d1fe493daad200839252505\"  # Your WeatherAPI key\n",
        "LOCATION = \"Haifa\"\n",
        "\n",
        "def get_weather_url():\n",
        "    return f\"http://api.weatherapi.com/v1/current.json?key={API_KEY}&q={LOCATION}&aqi=no\"\n"
      ],
      "metadata": {
        "id": "efm4AOks_bXh"
      },
      "execution_count": null,
      "outputs": []
    },
    {
      "cell_type": "code",
      "source": [
        "def fetch_weather_data():\n",
        "    try:\n",
        "        weather_url = get_weather_url()\n",
        "        response = requests.get(weather_url)\n",
        "        response.raise_for_status()\n",
        "        return response.json()\n",
        "    except Exception as e:\n",
        "        print(\"⚠️ Failed to fetch weather data:\", e)\n",
        "        return None\n"
      ],
      "metadata": {
        "id": "CovzQHjbAZiP"
      },
      "execution_count": null,
      "outputs": []
    },
    {
      "cell_type": "markdown",
      "source": [
        "## Calculate if weather is severe"
      ],
      "metadata": {
        "id": "bCWayNy_6afc"
      }
    },
    {
      "cell_type": "code",
      "source": [
        "STATIC_TEMP = None  # global variable for storing the tempreture\n"
      ],
      "metadata": {
        "id": "IUqjwxp788qQ"
      },
      "execution_count": null,
      "outputs": []
    },
    {
      "cell_type": "code",
      "source": [
        "def is_weather_severe(data):\n",
        "    if not data:\n",
        "        return False\n",
        "\n",
        "    try:\n",
        "        current = data['current']\n",
        "        temp = current['temp_c']\n",
        "        wind = current['wind_kph']\n",
        "        gust = current['gust_kph']\n",
        "        precip = current['precip_mm']\n",
        "        humidity = current['humidity']\n",
        "        condition_text = current['condition']['text'].lower()\n",
        "        uv_index = current.get('uv', 0)\n",
        "    except KeyError as e:\n",
        "        print(\"❌ Missing field in weather data:\", e)\n",
        "        return False\n",
        "\n",
        "    STATIC_TEMP = temp\n",
        "\n",
        "    if temp < 15 or temp > 33:\n",
        "        return True\n",
        "    if wind > 30 or gust > 45:\n",
        "        return True\n",
        "    if precip > 5:\n",
        "        return True\n",
        "    if \"thunder\" in condition_text or \"storm\" in condition_text or \"snow\" in condition_text:\n",
        "        return True\n",
        "    if uv_index > 8:\n",
        "        return True\n",
        "\n",
        "    return False"
      ],
      "metadata": {
        "id": "OVu9bfAf_kAr"
      },
      "execution_count": null,
      "outputs": []
    },
    {
      "cell_type": "markdown",
      "source": [
        "## checks severe weather and sends the bolean result"
      ],
      "metadata": {
        "id": "HrlllYnT6eh6"
      }
    },
    {
      "cell_type": "code",
      "source": [
        "def check_severe_weather():\n",
        "    \"\"\"\n",
        "    Fetches the weather and returns True if severe, else False.\n",
        "    Also logs current values.\n",
        "    \"\"\"\n",
        "    global STATIC_TEMP  # allow writing to the global variable\n",
        "\n",
        "    data = fetch_weather_data()\n",
        "    if not data:\n",
        "        return False\n",
        "\n",
        "    current = data['current']\n",
        "    temp = current['temp_c']   # capture temperature\n",
        "    STATIC_TEMP = temp         # store it globally\n",
        "\n",
        "    print(\"🌦️ Condition:\", current['condition']['text'])\n",
        "    print(\"🌡️ Temperature:\", current['temp_c'], \"°C\")\n",
        "    print(\"🌬️ Wind:\", current['wind_kph'], \"km/h\")\n",
        "    print(\"💧 Precipitation:\", current['precip_mm'], \"mm\")\n",
        "\n",
        "    severe = is_weather_severe(data)\n",
        "    print(\"🚨 Severe Weather Detected!\" if severe else \"✅ Weather is Normal\")\n",
        "    return severe\n"
      ],
      "metadata": {
        "id": "TsVk7BKX_k5F"
      },
      "execution_count": null,
      "outputs": []
    },
    {
      "cell_type": "markdown",
      "source": [
        "# **Real-Time Prediction and Inference**"
      ],
      "metadata": {
        "id": "K4iAlNPz58yU"
      }
    },
    {
      "cell_type": "markdown",
      "source": [
        "## Run prediction"
      ],
      "metadata": {
        "id": "SYv8ttjOPBF9"
      }
    },
    {
      "cell_type": "code",
      "source": [
        "def predict_traffic_decision_with_label(model, ultra1, ultra2, ultra3, ultra4, face, severe_weather):\n",
        "    \"\"\"\n",
        "    Predicts traffic light actions and scenario label with preprocessing for ultra1–4.\n",
        "    Distances under 55 are treated as '1' (car), otherwise '0'.\n",
        "    \"\"\"\n",
        "\n",
        "    # Preprocess: convert raw distance to binary presence\n",
        "    def to_binary(distance):\n",
        "        return 1 if distance < 55 else 0\n",
        "\n",
        "    sample_input = pd.DataFrame([{\n",
        "        \"ultra1\": to_binary(ultra1),\n",
        "        \"ultra2\": to_binary(ultra2),\n",
        "        \"ultra3\": to_binary(ultra3),\n",
        "        \"ultra4\": to_binary(ultra4),\n",
        "        \"face\": face,\n",
        "        \"severe weather\": severe_weather\n",
        "    }])\n",
        "\n",
        "    # Predict\n",
        "    predicted = model.predict(sample_input)[0]\n",
        "\n",
        "    # Map outputs\n",
        "    light_map = {0: \"red\", 1: \"green\"}\n",
        "    label_map = {0: \"bad\", 1: \"good\"}\n",
        "    output_labels = [\"priority\", \"traffic_light_lane_1\", \"traffic_light_lane_2\", \"traffic_light_lane_3\", \"traffic_light_lane_4\", \"traffic_light_pedestrian\", \"label\"]\n",
        "\n",
        "    result = {}\n",
        "    for label, value in zip(output_labels, predicted):\n",
        "        if label == \"priority\":\n",
        "            result[label] = \"pedestrians\" if value == 1 else \"cars\"\n",
        "        elif label == \"label\":\n",
        "            result[label] = label_map.get(value, f\"unknown ({value})\")\n",
        "        else:\n",
        "            result[label] = light_map[value]\n",
        "\n",
        "    return result\n"
      ],
      "metadata": {
        "id": "SlY7SClk7UUP"
      },
      "execution_count": null,
      "outputs": []
    },
    {
      "cell_type": "markdown",
      "metadata": {
        "id": "Rjwj9pyS9xle"
      },
      "source": [
        "# **ML model - Random Forest**"
      ]
    },
    {
      "cell_type": "markdown",
      "source": [
        "## Data Processing Function"
      ],
      "metadata": {
        "id": "OEW4wR_4MCDF"
      }
    },
    {
      "cell_type": "code",
      "source": [
        "def process_data(input_file):\n",
        "    \"\"\"Load and process data from JSON file, including 'severe weather' and 'label'.\"\"\"\n",
        "    with open(input_file, \"r\") as file:\n",
        "        data = json.load(file)\n",
        "\n",
        "    df = pd.DataFrame(data)\n",
        "\n",
        "    # Define mappings\n",
        "    priority_map = {\"cars\": 0, \"pedestrians\": 1}\n",
        "    traffic_light_map = {\"red\": 0, \"green\": 1}\n",
        "    label_map = {\"bad\": 0, \"good\": 1}\n",
        "\n",
        "    # Apply mappings\n",
        "    df[\"priority\"] = df[\"priority\"].map(priority_map)\n",
        "    for col in [\n",
        "        \"traffic_light_lane_1\", \"traffic_light_lane_2\",\n",
        "        \"traffic_light_lane_3\", \"traffic_light_lane_4\",\n",
        "        \"traffic_light_pedestrian\"\n",
        "    ]:\n",
        "        df[col] = df[col].map(traffic_light_map)\n",
        "\n",
        "    df[\"severe weather\"] = df[\"severe weather\"].astype(int)\n",
        "    df[\"label\"] = df[\"label\"].map(label_map)\n",
        "\n",
        "    # Input features\n",
        "\n",
        "    X = df[[\"ultra1\", \"ultra2\", \"ultra3\", \"ultra4\", \"face\", \"severe weather\"]]\n",
        "\n",
        "    # Output targets (including label)\n",
        "    y = df[[\n",
        "        \"priority\",\n",
        "        \"traffic_light_lane_1\", \"traffic_light_lane_2\",\n",
        "        \"traffic_light_lane_3\", \"traffic_light_lane_4\",\n",
        "        \"traffic_light_pedestrian\",\n",
        "        \"label\"\n",
        "    ]]\n",
        "\n",
        "    return X, y"
      ],
      "metadata": {
        "id": "vIwEagIoMG6L"
      },
      "execution_count": null,
      "outputs": []
    },
    {
      "cell_type": "markdown",
      "source": [
        "## Model Training + Evaluation Function"
      ],
      "metadata": {
        "id": "hzzaOtcIMIj8"
      }
    },
    {
      "cell_type": "code",
      "source": [
        "def train_scheduler(X, y):\n",
        "    \"\"\"Train a Multi-Output Random Forest Classifier and return the model and test results.\"\"\"\n",
        "    X_train, X_test, y_train, y_test = train_test_split(X, y, test_size=0.2, random_state=42 , stratify=y)\n",
        "\n",
        "    # Train model\n",
        "    model = MultiOutputClassifier(RandomForestClassifier(n_estimators=300, random_state=42))\n",
        "    model.fit(X_train, y_train)\n",
        "\n",
        "    y_pred = model.predict(X_test)\n",
        "\n",
        "    # Evaluate accuracy\n",
        "    print(\"📊 Prediction Accuracy:\")\n",
        "    for i, col in enumerate(y.columns):\n",
        "        acc = accuracy_score(y_test.iloc[:, i], y_pred[:, i])\n",
        "        print(f\"{col}: {acc:.2f}\")\n",
        "\n",
        "    print(\"\\n📝 Sample Classification Report (Lane 1):\")\n",
        "    print(classification_report(y_test.iloc[:, 2], y_pred[:, 2]))  # Lane 1 = index 2\n",
        "\n",
        "    # Save model\n",
        "    joblib.dump(model, \"traffic_model.pkl\")\n",
        "    print(\"\\n✅ Model saved as 'traffic_model.pkl'\")\n",
        "\n",
        "    return model, X_test, y_test, y_pred\n"
      ],
      "metadata": {
        "id": "pRchdeauMOAk"
      },
      "execution_count": null,
      "outputs": []
    },
    {
      "cell_type": "markdown",
      "source": [
        "## Format and Display Results"
      ],
      "metadata": {
        "id": "JkNYiPA-Md1F"
      }
    },
    {
      "cell_type": "code",
      "source": [
        "def format_results(X_test, y_test, y_pred):\n",
        "    \"\"\"Create comparison DataFrame with predicted vs actual and readable labels.\"\"\"\n",
        "    X_test_reset = X_test.reset_index(drop=True)\n",
        "    y_test_reset = y_test.reset_index(drop=True)\n",
        "    y_pred_df = pd.DataFrame(y_pred, columns=[f\"Predicted_{col}\" for col in y_test.columns])\n",
        "\n",
        "    comparison_df = pd.concat([X_test_reset, y_test_reset, y_pred_df], axis=1)\n",
        "\n",
        "    comparison_df[\"label_str\"] = comparison_df[\"label\"].map({1: \"good\", 0: \"bad\"})\n",
        "    comparison_df[\"Predicted_label_str\"] = comparison_df[\"Predicted_label\"].map({1: \"good\", 0: \"bad\"})\n",
        "\n",
        "    good_only_df = comparison_df[comparison_df[\"Predicted_label_str\"] == \"good\"]\n",
        "\n",
        "    print(\"\\n✅ Valid Traffic Scheduling Predictions (labeled as 'good'):\")\n",
        "    print(good_only_df[[  # key info only\n",
        "        \"ultra1\", \"ultra2\", \"ultra3\", \"ultra4\", \"face\", \"severe weather\",\n",
        "        \"priority\", \"traffic_light_lane_1\", \"traffic_light_lane_2\",\n",
        "        \"traffic_light_lane_3\", \"traffic_light_lane_4\", \"traffic_light_pedestrian\",\n",
        "        \"label_str\", \"Predicted_label_str\"\n",
        "    ]].head(10))\n",
        "\n",
        "    return good_only_df\n"
      ],
      "metadata": {
        "id": "S3tv9o5BMfvB"
      },
      "execution_count": null,
      "outputs": []
    },
    {
      "cell_type": "markdown",
      "source": [
        "## Full Pipeline Wrapper"
      ],
      "metadata": {
        "id": "eoK9om_KMhTq"
      }
    },
    {
      "cell_type": "code",
      "source": [
        "def run_full_pipeline(json_path):\n",
        "    \"\"\"End-to-end pipeline: load data, train model, and print formatted results.\"\"\"\n",
        "    X, y = process_data(json_path)\n",
        "    model, X_test, y_test, y_pred = train_scheduler(X, y)\n",
        "    return model"
      ],
      "metadata": {
        "id": "ABVmyexIMj9A"
      },
      "execution_count": null,
      "outputs": []
    },
    {
      "cell_type": "code",
      "source": [
        "# Just call this with your JSON file:\n",
        "model = run_full_pipeline(\"data_r.json\")"
      ],
      "metadata": {
        "id": "acv28qWBMpYB",
        "colab": {
          "base_uri": "https://localhost:8080/"
        },
        "outputId": "0ec97e3d-7b68-4792-c88b-655fee9df7d2"
      },
      "execution_count": null,
      "outputs": [
        {
          "output_type": "stream",
          "name": "stdout",
          "text": [
            "📊 Prediction Accuracy:\n",
            "priority: 0.85\n",
            "traffic_light_lane_1: 0.93\n",
            "traffic_light_lane_2: 0.92\n",
            "traffic_light_lane_3: 0.93\n",
            "traffic_light_lane_4: 0.92\n",
            "traffic_light_pedestrian: 0.85\n",
            "label: 0.85\n",
            "\n",
            "📝 Sample Classification Report (Lane 1):\n",
            "              precision    recall  f1-score   support\n",
            "\n",
            "           0       0.93      0.97      0.95    160601\n",
            "           1       0.89      0.75      0.82     46842\n",
            "\n",
            "    accuracy                           0.92    207443\n",
            "   macro avg       0.91      0.86      0.88    207443\n",
            "weighted avg       0.92      0.92      0.92    207443\n",
            "\n",
            "\n",
            "✅ Model saved as 'traffic_model.pkl'\n"
          ]
        }
      ]
    },
    {
      "cell_type": "markdown",
      "metadata": {
        "id": "Yt1OvKYV2ISj"
      },
      "source": [
        "# **Pedestrians and Density Forecast**"
      ]
    },
    {
      "cell_type": "markdown",
      "source": [
        "## Load and Preprocess Data"
      ],
      "metadata": {
        "id": "Doks2W7KRP2n"
      }
    },
    {
      "cell_type": "code",
      "source": [
        "def load_and_preprocess_forecast_data(file_path=\"data_r.json\"):\n",
        "    with open(file_path, \"r\") as file:\n",
        "        data = json.load(file)\n",
        "\n",
        "    df = pd.DataFrame(data)\n",
        "\n",
        "    # Encode categorical variables\n",
        "    label_encoders = {}\n",
        "    for col in [\"day\", \"traffic density\"]:\n",
        "        le = LabelEncoder()\n",
        "        df[col] = le.fit_transform(df[col])\n",
        "        label_encoders[col] = le\n",
        "\n",
        "    # Convert time string to hour\n",
        "    df[\"hour\"] = pd.to_datetime(df[\"time\"], format=\"%H:%M\").dt.hour\n",
        "\n",
        "    return df, label_encoders\n"
      ],
      "metadata": {
        "id": "dwgOkXBpRTZb"
      },
      "execution_count": null,
      "outputs": []
    },
    {
      "cell_type": "markdown",
      "source": [
        "## Train Models (People Count + Traffic Density)"
      ],
      "metadata": {
        "id": "Q6kv7bRfRVQQ"
      }
    },
    {
      "cell_type": "code",
      "source": [
        "def train_forecast_models(df):\n",
        "    # Shared input features\n",
        "    features = [\"ultra1\", \"ultra2\", \"ultra3\", \"ultra4\", \"hour\", \"day\"]\n",
        "\n",
        "    # People Count – Regression\n",
        "    X_p = df[features]\n",
        "    y_p = df[\"face\"]\n",
        "    X_train_p, X_test_p, y_train_p, y_test_p = train_test_split(X_p, y_p, test_size=0.2, random_state=42)\n",
        "    people_model = RandomForestRegressor(n_estimators=100, random_state=42)\n",
        "    people_model.fit(X_train_p, y_train_p)\n",
        "    print(\"📊 MAE (People Count):\", mean_absolute_error(y_test_p, people_model.predict(X_test_p)))\n",
        "\n",
        "    # Traffic Density – Classification\n",
        "    X_d = df[features]\n",
        "    y_d = df[\"traffic density\"]\n",
        "    X_train_d, X_test_d, y_train_d, y_test_d = train_test_split(X_d, y_d, test_size=0.2, random_state=42)\n",
        "    density_model = RandomForestClassifier(n_estimators=100, random_state=42)\n",
        "    density_model.fit(X_train_d, y_train_d)\n",
        "    print(\"📊 Accuracy (Traffic Density):\", accuracy_score(y_test_d, density_model.predict(X_test_d)))\n",
        "\n",
        "    return people_model, density_model\n"
      ],
      "metadata": {
        "id": "eqxdpBBKRZdJ"
      },
      "execution_count": null,
      "outputs": []
    },
    {
      "cell_type": "markdown",
      "source": [
        "## Predict for Next N Hours"
      ],
      "metadata": {
        "id": "0aYEWF_DRf3F"
      }
    },
    {
      "cell_type": "code",
      "source": [
        "\n",
        "def predict_forecast_separately(people_model, density_model, label_encoders, df, hours_ahead=5):\n",
        "    \"\"\"\n",
        "    Predicts people count and traffic density for the next N hours.\n",
        "    Returns two separate lists:\n",
        "    - people_predictions: list of dicts with time and predicted people count\n",
        "    - traffic_predictions: list of dicts with time and predicted traffic density\n",
        "    \"\"\"\n",
        "    # Average sensor values\n",
        "    avg_ultras = {f\"ultra{i}\": df[f\"ultra{i}\"].mean() for i in range(1, 5)}\n",
        "    israel_time = datetime.now(pytz.timezone(\"Asia/Jerusalem\"))\n",
        "    current_hour = israel_time.hour\n",
        "    most_common_day = df[\"day\"].mode()[0]\n",
        "\n",
        "    # Prepare future time features\n",
        "    future_hours = [(current_hour + i) % 24 for i in range(hours_ahead)]\n",
        "    future_data = pd.DataFrame({\n",
        "        \"ultra1\": [avg_ultras[\"ultra1\"]] * hours_ahead,\n",
        "        \"ultra2\": [avg_ultras[\"ultra2\"]] * hours_ahead,\n",
        "        \"ultra3\": [avg_ultras[\"ultra3\"]] * hours_ahead,\n",
        "        \"ultra4\": [avg_ultras[\"ultra4\"]] * hours_ahead,\n",
        "        \"hour\": future_hours,\n",
        "        \"day\": [most_common_day] * hours_ahead\n",
        "    })\n",
        "\n",
        "    # Make predictions\n",
        "    people_preds = people_model.predict(future_data)\n",
        "    density_preds = density_model.predict(future_data)\n",
        "    decoded_density = label_encoders[\"traffic density\"].inverse_transform(density_preds)\n",
        "\n",
        "    # Build output lists\n",
        "    people_predictions = []\n",
        "    traffic_predictions = []\n",
        "\n",
        "    for i in range(hours_ahead):\n",
        "        future_time = (israel_time + timedelta(hours=i)).strftime(\"%H:%M\")\n",
        "\n",
        "        people_predictions.append({\n",
        "            \"time\": future_time,\n",
        "            \"people_count\": round(float(people_preds[i]), 2)\n",
        "        })\n",
        "\n",
        "        traffic_predictions.append({\n",
        "            \"time\": future_time,\n",
        "            \"traffic_density\": decoded_density[i]\n",
        "        })\n",
        "\n",
        "        # Optional: print each prediction\n",
        "        print(f\"\\n📅 {future_time} Prediction:\")\n",
        "        print(f\"👥 People Count: {people_preds[i]}\")\n",
        "        print(f\"🚦 Traffic Density: {decoded_density[i]}\")\n",
        "\n",
        "    return people_predictions, traffic_predictions\n"
      ],
      "metadata": {
        "id": "iayCyj2GRin-"
      },
      "execution_count": null,
      "outputs": []
    },
    {
      "cell_type": "code",
      "source": [
        "# Step 1: Load + preprocess data\n",
        "df, label_encoders = load_and_preprocess_forecast_data(\"data_r.json\")\n",
        "\n",
        "# Step 2: Train models\n",
        "people_model, density_model = train_forecast_models(df)\n",
        "\n",
        "# Step 3: Generate and store predictions\n",
        "#forecast_predictions = predict_forecast(people_model, density_model, label_encoders, df, hours_ahead=5)\n",
        "\n"
      ],
      "metadata": {
        "colab": {
          "base_uri": "https://localhost:8080/"
        },
        "id": "JjvXKUSmRnbj",
        "outputId": "794dc5ba-f862-45d6-d5f9-bb5e121700cb"
      },
      "execution_count": null,
      "outputs": [
        {
          "output_type": "stream",
          "name": "stdout",
          "text": [
            "📊 MAE (People Count): 0.6843699847766009\n",
            "📊 Accuracy (Traffic Density): 0.7894554166686752\n"
          ]
        }
      ]
    },
    {
      "cell_type": "code",
      "source": [
        "people_predictions, traffic_predictions = predict_forecast_separately(\n",
        "    people_model,\n",
        "    density_model,\n",
        "    label_encoders,\n",
        "    df,\n",
        "    hours_ahead=5\n",
        ")\n",
        "\n",
        "print(\"\\n👥 People Forecast List:\", people_predictions)\n",
        "print(\"\\n🚦 Traffic Forecast List:\", traffic_predictions)\n"
      ],
      "metadata": {
        "colab": {
          "base_uri": "https://localhost:8080/"
        },
        "id": "E9pD5XxtPcVy",
        "outputId": "ec83bfd4-ff40-4878-ec2a-348b4306506f"
      },
      "execution_count": null,
      "outputs": [
        {
          "output_type": "stream",
          "name": "stdout",
          "text": [
            "\n",
            "📅 23:47 Prediction:\n",
            "👥 People Count: 2.242680613458512\n",
            "🚦 Traffic Density: low\n",
            "\n",
            "📅 00:47 Prediction:\n",
            "👥 People Count: 1.7476429998058765\n",
            "🚦 Traffic Density: low\n",
            "\n",
            "📅 01:47 Prediction:\n",
            "👥 People Count: 1.6668397230841572\n",
            "🚦 Traffic Density: low\n",
            "\n",
            "📅 02:47 Prediction:\n",
            "👥 People Count: 1.7511008467734164\n",
            "🚦 Traffic Density: low\n",
            "\n",
            "📅 03:47 Prediction:\n",
            "👥 People Count: 1.7513369904836973\n",
            "🚦 Traffic Density: low\n",
            "\n",
            "👥 People Forecast List: [{'time': '23:47', 'people_count': 2.24}, {'time': '00:47', 'people_count': 1.75}, {'time': '01:47', 'people_count': 1.67}, {'time': '02:47', 'people_count': 1.75}, {'time': '03:47', 'people_count': 1.75}]\n",
            "\n",
            "🚦 Traffic Forecast List: [{'time': '23:47', 'traffic_density': 'low'}, {'time': '00:47', 'traffic_density': 'low'}, {'time': '01:47', 'traffic_density': 'low'}, {'time': '02:47', 'traffic_density': 'low'}, {'time': '03:47', 'traffic_density': 'low'}]\n"
          ]
        }
      ]
    }
  ],
  "metadata": {
    "colab": {
      "collapsed_sections": [
        "K4iAlNPz58yU"
      ],
      "provenance": []
    },
    "kernelspec": {
      "display_name": "Python 3",
      "name": "python3"
    },
    "language_info": {
      "name": "python"
    }
  },
  "nbformat": 4,
  "nbformat_minor": 0
}
